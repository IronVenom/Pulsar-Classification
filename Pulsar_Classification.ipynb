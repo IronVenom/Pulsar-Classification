{
  "nbformat": 4,
  "nbformat_minor": 0,
  "metadata": {
    "colab": {
      "name": "Pulsar_Classification.ipynb",
      "provenance": [],
      "toc_visible": true
    },
    "kernelspec": {
      "name": "python3",
      "display_name": "Python 3"
    },
    "language_info": {
      "name": "python"
    },
    "accelerator": "GPU"
  },
  "cells": [
    {
      "cell_type": "code",
      "metadata": {
        "id": "wDMYrldkVrWJ"
      },
      "source": [
        "from google.colab import drive\n",
        "drive.mount('/content/drive')"
      ],
      "execution_count": null,
      "outputs": []
    },
    {
      "cell_type": "code",
      "metadata": {
        "id": "UqYz-5I8Waha"
      },
      "source": [
        "!unzip '/content/drive/MyDrive/Datasets/Pulsar.csv.zip' -d '/content'"
      ],
      "execution_count": null,
      "outputs": []
    },
    {
      "cell_type": "code",
      "metadata": {
        "id": "pwWuZnkeWvLD"
      },
      "source": [
        "import numpy as np\n",
        "import matplotlib.pyplot as plt\n",
        "import pandas as pd"
      ],
      "execution_count": 4,
      "outputs": []
    },
    {
      "cell_type": "markdown",
      "metadata": {
        "id": "6nfBf9MXW3m7"
      },
      "source": [
        "## Data Preprocessing"
      ]
    },
    {
      "cell_type": "code",
      "metadata": {
        "id": "ZoPONd0TW3FR"
      },
      "source": [
        "pulsars = pd.read_csv('Pulsar.csv')"
      ],
      "execution_count": 5,
      "outputs": []
    },
    {
      "cell_type": "code",
      "metadata": {
        "colab": {
          "base_uri": "https://localhost:8080/",
          "height": 203
        },
        "id": "ktnkhBwILKL2",
        "outputId": "a2490c80-0851-4d7b-e0bc-224423b37664"
      },
      "source": [
        "pulsars.head()"
      ],
      "execution_count": 7,
      "outputs": [
        {
          "output_type": "execute_result",
          "data": {
            "text/html": [
              "<div>\n",
              "<style scoped>\n",
              "    .dataframe tbody tr th:only-of-type {\n",
              "        vertical-align: middle;\n",
              "    }\n",
              "\n",
              "    .dataframe tbody tr th {\n",
              "        vertical-align: top;\n",
              "    }\n",
              "\n",
              "    .dataframe thead th {\n",
              "        text-align: right;\n",
              "    }\n",
              "</style>\n",
              "<table border=\"1\" class=\"dataframe\">\n",
              "  <thead>\n",
              "    <tr style=\"text-align: right;\">\n",
              "      <th></th>\n",
              "      <th>Mean_Integrated</th>\n",
              "      <th>SD</th>\n",
              "      <th>EK</th>\n",
              "      <th>Skewness</th>\n",
              "      <th>Mean_DMSNR_Curve</th>\n",
              "      <th>SD_DMSNR_Curve</th>\n",
              "      <th>EK_DMSNR_Curve</th>\n",
              "      <th>Skewness_DMSNR_Curve</th>\n",
              "      <th>Class</th>\n",
              "    </tr>\n",
              "  </thead>\n",
              "  <tbody>\n",
              "    <tr>\n",
              "      <th>0</th>\n",
              "      <td>140.562500</td>\n",
              "      <td>55.683782</td>\n",
              "      <td>-0.234571</td>\n",
              "      <td>-0.699648</td>\n",
              "      <td>3.199833</td>\n",
              "      <td>19.110426</td>\n",
              "      <td>7.975532</td>\n",
              "      <td>74.242225</td>\n",
              "      <td>0</td>\n",
              "    </tr>\n",
              "    <tr>\n",
              "      <th>1</th>\n",
              "      <td>102.507812</td>\n",
              "      <td>58.882430</td>\n",
              "      <td>0.465318</td>\n",
              "      <td>-0.515088</td>\n",
              "      <td>1.677258</td>\n",
              "      <td>14.860146</td>\n",
              "      <td>10.576487</td>\n",
              "      <td>127.393580</td>\n",
              "      <td>0</td>\n",
              "    </tr>\n",
              "    <tr>\n",
              "      <th>2</th>\n",
              "      <td>103.015625</td>\n",
              "      <td>39.341649</td>\n",
              "      <td>0.323328</td>\n",
              "      <td>1.051164</td>\n",
              "      <td>3.121237</td>\n",
              "      <td>21.744669</td>\n",
              "      <td>7.735822</td>\n",
              "      <td>63.171909</td>\n",
              "      <td>0</td>\n",
              "    </tr>\n",
              "    <tr>\n",
              "      <th>3</th>\n",
              "      <td>136.750000</td>\n",
              "      <td>57.178449</td>\n",
              "      <td>-0.068415</td>\n",
              "      <td>-0.636238</td>\n",
              "      <td>3.642977</td>\n",
              "      <td>20.959280</td>\n",
              "      <td>6.896499</td>\n",
              "      <td>53.593661</td>\n",
              "      <td>0</td>\n",
              "    </tr>\n",
              "    <tr>\n",
              "      <th>4</th>\n",
              "      <td>88.726562</td>\n",
              "      <td>40.672225</td>\n",
              "      <td>0.600866</td>\n",
              "      <td>1.123492</td>\n",
              "      <td>1.178930</td>\n",
              "      <td>11.468720</td>\n",
              "      <td>14.269573</td>\n",
              "      <td>252.567306</td>\n",
              "      <td>0</td>\n",
              "    </tr>\n",
              "  </tbody>\n",
              "</table>\n",
              "</div>"
            ],
            "text/plain": [
              "   Mean_Integrated         SD  ...  Skewness_DMSNR_Curve  Class\n",
              "0       140.562500  55.683782  ...             74.242225      0\n",
              "1       102.507812  58.882430  ...            127.393580      0\n",
              "2       103.015625  39.341649  ...             63.171909      0\n",
              "3       136.750000  57.178449  ...             53.593661      0\n",
              "4        88.726562  40.672225  ...            252.567306      0\n",
              "\n",
              "[5 rows x 9 columns]"
            ]
          },
          "metadata": {},
          "execution_count": 7
        }
      ]
    },
    {
      "cell_type": "code",
      "metadata": {
        "colab": {
          "base_uri": "https://localhost:8080/"
        },
        "id": "32VqgnrTK_ap",
        "outputId": "6c5e36c5-e627-437b-97df-abb77a2bf4d9"
      },
      "source": [
        "pulsars.info()"
      ],
      "execution_count": 6,
      "outputs": [
        {
          "output_type": "stream",
          "text": [
            "<class 'pandas.core.frame.DataFrame'>\n",
            "RangeIndex: 17898 entries, 0 to 17897\n",
            "Data columns (total 9 columns):\n",
            " #   Column                Non-Null Count  Dtype  \n",
            "---  ------                --------------  -----  \n",
            " 0   Mean_Integrated       17898 non-null  float64\n",
            " 1   SD                    17898 non-null  float64\n",
            " 2   EK                    17898 non-null  float64\n",
            " 3   Skewness              17898 non-null  float64\n",
            " 4   Mean_DMSNR_Curve      17898 non-null  float64\n",
            " 5   SD_DMSNR_Curve        17898 non-null  float64\n",
            " 6   EK_DMSNR_Curve        17898 non-null  float64\n",
            " 7   Skewness_DMSNR_Curve  17898 non-null  float64\n",
            " 8   Class                 17898 non-null  int64  \n",
            "dtypes: float64(8), int64(1)\n",
            "memory usage: 1.2 MB\n"
          ],
          "name": "stdout"
        }
      ]
    },
    {
      "cell_type": "code",
      "metadata": {
        "id": "kLsU5x3yLMBi"
      },
      "source": [
        "X = pulsars.drop('Class',axis=1)\n",
        "y = pulsars['Class']"
      ],
      "execution_count": 11,
      "outputs": []
    },
    {
      "cell_type": "code",
      "metadata": {
        "id": "jfAUCdovL8YP"
      },
      "source": [
        "from sklearn.model_selection import train_test_split\n",
        "X_train, X_test, y_train, y_test = train_test_split(X, y, test_size = 0.25, random_state = 0)"
      ],
      "execution_count": 12,
      "outputs": []
    },
    {
      "cell_type": "code",
      "metadata": {
        "id": "p0MvIahOMIRR"
      },
      "source": [
        "from sklearn.preprocessing import StandardScaler\n",
        "sc = StandardScaler()\n",
        "X_train = sc.fit_transform(X_train)\n",
        "X_test = sc.transform(X_test)"
      ],
      "execution_count": 13,
      "outputs": []
    },
    {
      "cell_type": "markdown",
      "metadata": {
        "id": "kfGDEObmML05"
      },
      "source": [
        "## Models"
      ]
    },
    {
      "cell_type": "code",
      "metadata": {
        "id": "HUPhqLtBMQPc"
      },
      "source": [
        "from sklearn.neighbors import KNeighborsClassifier\n",
        "from sklearn.svm import SVC\n",
        "from sklearn.naive_bayes import GaussianNB\n",
        "from sklearn.tree import DecisionTreeClassifier\n",
        "from sklearn.ensemble import RandomForestClassifier"
      ],
      "execution_count": 14,
      "outputs": []
    },
    {
      "cell_type": "code",
      "metadata": {
        "id": "Us423uEpMd96"
      },
      "source": [
        "knnclassifier = KNeighborsClassifier()\n",
        "svmclassifier = SVC(kernel = 'linear', random_state = 0)\n",
        "naivebayesclassifier = GaussianNB()\n",
        "decisiontreeclassifier = DecisionTreeClassifier(criterion = 'entropy', random_state = 0)\n",
        "randomforestclassifier = RandomForestClassifier(n_estimators = 10, criterion = 'entropy', random_state = 0)"
      ],
      "execution_count": 15,
      "outputs": []
    },
    {
      "cell_type": "code",
      "metadata": {
        "id": "KYYBFwfjNnRh"
      },
      "source": [
        "knnclassifier.fit(X_train,y_train)\n",
        "svmclassifier.fit(X_train,y_train)\n",
        "naivebayesclassifier.fit(X_train,y_train)\n",
        "decisiontreeclassifier.fit(X_train,y_train)\n",
        "randomforestclassifier.fit(X_train,y_train)"
      ],
      "execution_count": null,
      "outputs": []
    },
    {
      "cell_type": "markdown",
      "metadata": {
        "id": "7HqXgaTyN2g5"
      },
      "source": [
        "## Predicting the Test Set results"
      ]
    },
    {
      "cell_type": "code",
      "metadata": {
        "id": "JojCUl3hN-VJ"
      },
      "source": [
        "knn_y_pred = knnclassifier.predict(X_test)\n",
        "svm_y_pred = svmclassifier.predict(X_test)\n",
        "naivebayes_y_pred = naivebayesclassifier.predict(X_test)\n",
        "decisiontree_y_pred = decisiontreeclassifier.predict(X_test)\n",
        "randomforest_y_pred = randomforestclassifier.predict(X_test)"
      ],
      "execution_count": 18,
      "outputs": []
    },
    {
      "cell_type": "markdown",
      "metadata": {
        "id": "pZFsaS2ROdNL"
      },
      "source": [
        "## Accuracy of Models"
      ]
    },
    {
      "cell_type": "code",
      "metadata": {
        "id": "ZrHlqCk6OmPS"
      },
      "source": [
        "from sklearn.metrics import confusion_matrix, accuracy_score"
      ],
      "execution_count": 19,
      "outputs": []
    },
    {
      "cell_type": "markdown",
      "metadata": {
        "id": "8CcWv1prOhps"
      },
      "source": [
        "KNN Classifier"
      ]
    },
    {
      "cell_type": "code",
      "metadata": {
        "colab": {
          "base_uri": "https://localhost:8080/"
        },
        "id": "5lkFN_ElOcoP",
        "outputId": "b266c6a6-78ea-4c57-fc59-f55b4ad5bb6f"
      },
      "source": [
        "knn_accuracy = accuracy_score(y_test, knn_y_pred)\n",
        "print(knn_accuracy)"
      ],
      "execution_count": 38,
      "outputs": [
        {
          "output_type": "stream",
          "text": [
            "0.9830167597765364\n"
          ],
          "name": "stdout"
        }
      ]
    },
    {
      "cell_type": "markdown",
      "metadata": {
        "id": "7HYJXUalO8qs"
      },
      "source": [
        "SVM Classifier"
      ]
    },
    {
      "cell_type": "code",
      "metadata": {
        "colab": {
          "base_uri": "https://localhost:8080/"
        },
        "id": "wEbQ0JWQOsRk",
        "outputId": "fca10acd-d62b-4cb6-ea28-4b351625cf97"
      },
      "source": [
        "svm_accuracy = accuracy_score(y_test, svm_y_pred)\n",
        "print(svm_accuracy)"
      ],
      "execution_count": 39,
      "outputs": [
        {
          "output_type": "stream",
          "text": [
            "0.9812290502793296\n"
          ],
          "name": "stdout"
        }
      ]
    },
    {
      "cell_type": "markdown",
      "metadata": {
        "id": "5Rk_Z-nOO-n0"
      },
      "source": [
        "Naive Bayes Classifier"
      ]
    },
    {
      "cell_type": "code",
      "metadata": {
        "colab": {
          "base_uri": "https://localhost:8080/"
        },
        "id": "sJ-l33qVOvRE",
        "outputId": "8f15d1e9-1115-477f-82b3-ab04b065dff8"
      },
      "source": [
        "naivebayes_accuracy = accuracy_score(y_test, naivebayes_y_pred)\n",
        "print(naivebayes_accuracy)"
      ],
      "execution_count": 40,
      "outputs": [
        {
          "output_type": "stream",
          "text": [
            "0.9506145251396648\n"
          ],
          "name": "stdout"
        }
      ]
    },
    {
      "cell_type": "markdown",
      "metadata": {
        "id": "ZsV5v_R-PAUH"
      },
      "source": [
        "Decision Tree Classifier"
      ]
    },
    {
      "cell_type": "code",
      "metadata": {
        "colab": {
          "base_uri": "https://localhost:8080/"
        },
        "id": "WnNoceN-O0QA",
        "outputId": "291ec9fd-de66-444d-e9af-c16b44b46cd8"
      },
      "source": [
        "decision_tree_accuracy = accuracy_score(y_test, decisiontree_y_pred)\n",
        "print(decision_tree_accuracy)"
      ],
      "execution_count": 42,
      "outputs": [
        {
          "output_type": "stream",
          "text": [
            "0.966927374301676\n"
          ],
          "name": "stdout"
        }
      ]
    },
    {
      "cell_type": "markdown",
      "metadata": {
        "id": "RYWOMWKpPCCL"
      },
      "source": [
        "Random Forest Classifier"
      ]
    },
    {
      "cell_type": "code",
      "metadata": {
        "colab": {
          "base_uri": "https://localhost:8080/"
        },
        "id": "JArITmk5O4B-",
        "outputId": "539afc0a-ca75-44f1-b57d-6ef2733a605e"
      },
      "source": [
        "random_forest_accuracy = accuracy_score(y_test, randomforest_y_pred)\n",
        "print(random_forest_accuracy)"
      ],
      "execution_count": 41,
      "outputs": [
        {
          "output_type": "stream",
          "text": [
            "0.9823463687150839\n"
          ],
          "name": "stdout"
        }
      ]
    },
    {
      "cell_type": "markdown",
      "metadata": {
        "id": "BnZNahA2PD7H"
      },
      "source": [
        "## Ensemble Classifier using Stacked Generalization"
      ]
    },
    {
      "cell_type": "code",
      "metadata": {
        "id": "SQDsR4LNPNT7"
      },
      "source": [
        "from sklearn.ensemble import StackingClassifier\n",
        "from sklearn.linear_model import LogisticRegression"
      ],
      "execution_count": 29,
      "outputs": []
    },
    {
      "cell_type": "code",
      "metadata": {
        "id": "qryzh657PmCs"
      },
      "source": [
        "# Base Models\n",
        "level0 = list()\n",
        "level0.append(('knn', KNeighborsClassifier()))\n",
        "level0.append(('svm', SVC(kernel = 'linear', random_state = 0)))\n",
        "level0.append(('naive_bayes', GaussianNB()))\n",
        "level0.append(('decision_tree', DecisionTreeClassifier(criterion = 'entropy', random_state = 0)))\n",
        "level0.append(('random_forest', RandomForestClassifier(n_estimators = 10, criterion = 'entropy', random_state = 0))) \n",
        "\n",
        "# Meta Learner Model\n",
        "level1 = LogisticRegression()\n",
        "\n",
        "# Stacking Ensemble\n",
        "stacking_ensemble_model = StackingClassifier(estimators=level0, final_estimator=level1, cv=5)"
      ],
      "execution_count": 30,
      "outputs": []
    },
    {
      "cell_type": "code",
      "metadata": {
        "id": "-07QmJxaRJMo"
      },
      "source": [
        "stacking_ensemble_model.fit(X_train,y_train)"
      ],
      "execution_count": null,
      "outputs": []
    },
    {
      "cell_type": "code",
      "metadata": {
        "id": "PxR4fAcMRQBK"
      },
      "source": [
        "stacking_ensemble_y_pred = stacking_ensemble_model.predict(X_test)"
      ],
      "execution_count": 32,
      "outputs": []
    },
    {
      "cell_type": "code",
      "metadata": {
        "colab": {
          "base_uri": "https://localhost:8080/"
        },
        "id": "NDgRKO8IRUiw",
        "outputId": "91625cae-2268-461a-b4f0-f46c2dfc0ba9"
      },
      "source": [
        "stacking_ensemble_accuracy = accuracy_score(y_test,stacking_ensemble_y_pred)\n",
        "print(stacking_ensemble_accuracy)"
      ],
      "execution_count": 43,
      "outputs": [
        {
          "output_type": "stream",
          "text": [
            "0.9825698324022346\n"
          ],
          "name": "stdout"
        }
      ]
    },
    {
      "cell_type": "markdown",
      "metadata": {
        "id": "kbQWI1sCR_B-"
      },
      "source": [
        "## Model Accuracy Comparison"
      ]
    },
    {
      "cell_type": "code",
      "metadata": {
        "colab": {
          "base_uri": "https://localhost:8080/",
          "height": 449
        },
        "id": "dXvrUCEXSCHO",
        "outputId": "7f8d49ad-b0a1-46ed-a2d3-dcbd0b1e6a97"
      },
      "source": [
        "model_names = ['KNN','SVM','Naive Bayes','Decision Tree','Random Forest','Stacked Generalization Ensemble']\n",
        "accuracies = [knn_accuracy,svm_accuracy,naivebayes_accuracy,decision_tree_accuracy,random_forest_accuracy,stacking_ensemble_accuracy]\n",
        "accuracies = [i*100 for i in accuracies]\n",
        "plt.rcdefaults()\n",
        "fig, ax = plt.subplots()\n",
        "y_pos = np.arange(len(model_names))\n",
        "ax.barh(y_pos, accuracies, align='center')\n",
        "ax.set_yticks(y_pos)\n",
        "ax.set_yticklabels(model_names)\n",
        "ax.invert_yaxis()  \n",
        "ax.set_xlabel('Accuracy')\n",
        "plt.show()"
      ],
      "execution_count": 47,
      "outputs": [
        {
          "output_type": "display_data",
          "data": {
            "image/png": "[encoded data removed]",
            "text/plain": [
              "<Figure size 640x480 with 1 Axes>"
            ]
          },
          "metadata": {}
        }
      ]
    }
  ]
}